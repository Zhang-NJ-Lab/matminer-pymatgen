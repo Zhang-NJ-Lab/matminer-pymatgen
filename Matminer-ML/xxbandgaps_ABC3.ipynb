{
 "cells": [
  {
   "cell_type": "markdown",
   "id": "5fe2be2f-bc91-4ac4-8e28-61a598175b88",
   "metadata": {},
   "source": [
    "# https://github.com/WSukmas/Workshop_ECPRL/blob/main/bandgaps_ABC3.ipynb"
   ]
  },
  {
   "cell_type": "code",
   "execution_count": 16,
   "id": "b4f471aa-41b6-4906-a82f-9e5b2d127acf",
   "metadata": {},
   "outputs": [
    {
     "name": "stdout",
     "output_type": "stream",
     "text": [
      "Looking in indexes: https://pypi.tuna.tsinghua.edu.cn/simple\n",
      "Requirement already satisfied: mp-api in d:\\programdata\\anaconda3\\lib\\site-packages (0.29.3)\n",
      "Requirement already satisfied: pymatgen>=2022.3.7 in d:\\programdata\\anaconda3\\lib\\site-packages (from mp-api) (2022.10.22)\n",
      "Requirement already satisfied: typing-extensions>=3.7.4.1 in d:\\programdata\\anaconda3\\lib\\site-packages (from mp-api) (4.4.0)\n",
      "Requirement already satisfied: requests>=2.23.0 in d:\\programdata\\anaconda3\\lib\\site-packages (from mp-api) (2.28.1)\n",
      "Requirement already satisfied: msgpack in d:\\programdata\\anaconda3\\lib\\site-packages (from mp-api) (1.0.2)\n",
      "Requirement already satisfied: setuptools in d:\\programdata\\anaconda3\\lib\\site-packages (from mp-api) (52.0.0.post20210125)\n",
      "Requirement already satisfied: emmet-core>=0.36.4 in d:\\programdata\\anaconda3\\lib\\site-packages (from mp-api) (0.38.5)\n",
      "Requirement already satisfied: monty>=2021.3.12 in d:\\programdata\\anaconda3\\lib\\site-packages (from mp-api) (2022.9.9)\n",
      "Requirement already satisfied: pydantic==1.10.2 in d:\\programdata\\anaconda3\\lib\\site-packages (from emmet-core>=0.36.4->mp-api) (1.10.2)\n",
      "Requirement already satisfied: spglib==2.0.1 in d:\\programdata\\anaconda3\\lib\\site-packages (from emmet-core>=0.36.4->mp-api) (2.0.1)\n",
      "Requirement already satisfied: pybtex~=0.24 in d:\\programdata\\anaconda3\\lib\\site-packages (from emmet-core>=0.36.4->mp-api) (0.24.0)\n",
      "Requirement already satisfied: numpy in d:\\programdata\\anaconda3\\lib\\site-packages (from spglib==2.0.1->emmet-core>=0.36.4->mp-api) (1.22.4)\n",
      "Requirement already satisfied: latexcodec>=1.0.4 in d:\\programdata\\anaconda3\\lib\\site-packages (from pybtex~=0.24->emmet-core>=0.36.4->mp-api) (2.0.1)\n",
      "Requirement already satisfied: six in d:\\programdata\\anaconda3\\lib\\site-packages (from pybtex~=0.24->emmet-core>=0.36.4->mp-api) (1.15.0)\n",
      "Requirement already satisfied: PyYAML>=3.01 in c:\\users\\administrator\\appdata\\roaming\\python\\python38\\site-packages (from pybtex~=0.24->emmet-core>=0.36.4->mp-api) (5.1.2)\n",
      "Requirement already satisfied: plotly>=4.5.0 in d:\\programdata\\anaconda3\\lib\\site-packages (from pymatgen>=2022.3.7->mp-api) (5.10.0)\n",
      "Requirement already satisfied: uncertainties>=3.1.4 in d:\\programdata\\anaconda3\\lib\\site-packages (from pymatgen>=2022.3.7->mp-api) (3.1.7)\n",
      "Requirement already satisfied: matplotlib>=1.5 in d:\\programdata\\anaconda3\\lib\\site-packages (from pymatgen>=2022.3.7->mp-api) (3.3.4)\n",
      "Requirement already satisfied: tqdm in d:\\programdata\\anaconda3\\lib\\site-packages (from pymatgen>=2022.3.7->mp-api) (4.64.1)\n",
      "Requirement already satisfied: palettable>=3.1.1 in d:\\programdata\\anaconda3\\lib\\site-packages (from pymatgen>=2022.3.7->mp-api) (3.3.0)\n",
      "Requirement already satisfied: ruamel.yaml>=0.17.0 in d:\\programdata\\anaconda3\\lib\\site-packages (from pymatgen>=2022.3.7->mp-api) (0.17.21)\n",
      "Requirement already satisfied: scipy>=1.5.0 in d:\\programdata\\anaconda3\\lib\\site-packages (from pymatgen>=2022.3.7->mp-api) (1.6.2)\n",
      "Requirement already satisfied: networkx>=2.2 in d:\\programdata\\anaconda3\\lib\\site-packages (from pymatgen>=2022.3.7->mp-api) (2.5)\n",
      "Requirement already satisfied: pandas in d:\\programdata\\anaconda3\\lib\\site-packages (from pymatgen>=2022.3.7->mp-api) (1.5.1)\n",
      "Requirement already satisfied: tabulate in d:\\programdata\\anaconda3\\lib\\site-packages (from pymatgen>=2022.3.7->mp-api) (0.9.0)\n",
      "Requirement already satisfied: sympy in d:\\programdata\\anaconda3\\lib\\site-packages (from pymatgen>=2022.3.7->mp-api) (1.11.1)\n",
      "Requirement already satisfied: pyparsing!=2.0.4,!=2.1.2,!=2.1.6,>=2.0.3 in d:\\programdata\\anaconda3\\lib\\site-packages (from matplotlib>=1.5->pymatgen>=2022.3.7->mp-api) (2.4.7)\n",
      "Requirement already satisfied: pillow>=6.2.0 in c:\\users\\administrator\\appdata\\roaming\\python\\python38\\site-packages (from matplotlib>=1.5->pymatgen>=2022.3.7->mp-api) (7.2.0)\n",
      "Requirement already satisfied: cycler>=0.10 in d:\\programdata\\anaconda3\\lib\\site-packages (from matplotlib>=1.5->pymatgen>=2022.3.7->mp-api) (0.10.0)\n",
      "Requirement already satisfied: kiwisolver>=1.0.1 in d:\\programdata\\anaconda3\\lib\\site-packages (from matplotlib>=1.5->pymatgen>=2022.3.7->mp-api) (1.3.1)\n",
      "Requirement already satisfied: python-dateutil>=2.1 in d:\\programdata\\anaconda3\\lib\\site-packages (from matplotlib>=1.5->pymatgen>=2022.3.7->mp-api) (2.8.2)\n",
      "Requirement already satisfied: decorator>=4.3.0 in d:\\programdata\\anaconda3\\lib\\site-packages (from networkx>=2.2->pymatgen>=2022.3.7->mp-api) (5.0.6)\n",
      "Requirement already satisfied: tenacity>=6.2.0 in d:\\programdata\\anaconda3\\lib\\site-packages (from plotly>=4.5.0->pymatgen>=2022.3.7->mp-api) (8.1.0)\n",
      "Requirement already satisfied: urllib3<1.27,>=1.21.1 in d:\\programdata\\anaconda3\\lib\\site-packages (from requests>=2.23.0->mp-api) (1.26.12)\n",
      "Requirement already satisfied: certifi>=2017.4.17 in d:\\programdata\\anaconda3\\lib\\site-packages (from requests>=2.23.0->mp-api) (2020.12.5)\n",
      "Requirement already satisfied: charset-normalizer<3,>=2 in d:\\programdata\\anaconda3\\lib\\site-packages (from requests>=2.23.0->mp-api) (2.1.1)\n",
      "Requirement already satisfied: idna<4,>=2.5 in d:\\programdata\\anaconda3\\lib\\site-packages (from requests>=2.23.0->mp-api) (2.8)\n",
      "Requirement already satisfied: ruamel.yaml.clib>=0.2.6 in d:\\programdata\\anaconda3\\lib\\site-packages (from ruamel.yaml>=0.17.0->pymatgen>=2022.3.7->mp-api) (0.2.7)\n",
      "Requirement already satisfied: future in d:\\programdata\\anaconda3\\lib\\site-packages (from uncertainties>=3.1.4->pymatgen>=2022.3.7->mp-api) (0.18.2)\n",
      "Requirement already satisfied: pytz>=2020.1 in d:\\programdata\\anaconda3\\lib\\site-packages (from pandas->pymatgen>=2022.3.7->mp-api) (2021.1)\n",
      "Requirement already satisfied: mpmath>=0.19 in d:\\programdata\\anaconda3\\lib\\site-packages (from sympy->pymatgen>=2022.3.7->mp-api) (1.2.1)\n",
      "Requirement already satisfied: colorama in d:\\programdata\\anaconda3\\lib\\site-packages (from tqdm->pymatgen>=2022.3.7->mp-api) (0.4.4)\n"
     ]
    }
   ],
   "source": [
    "!pip install mp-api --user"
   ]
  },
  {
   "cell_type": "code",
   "execution_count": 18,
   "id": "075f1664-a48b-48b7-befd-6b249932f0f7",
   "metadata": {},
   "outputs": [],
   "source": [
    "from matminer.data_retrieval.retrieve_MP import MPDataRetrieval\n",
    "from pymatgen.ext.matproj import MPRester\n",
    "from pymatgen.io.cif import CifParser\n",
    "import matminer\n",
    "import pandas as pd\n",
    "import numpy as np\n",
    "import matplotlib.pyplot as plt\n",
    "\n",
    "%config InlineBackend.figure_format='retina'\n",
    "%matplotlib Inline"
   ]
  },
  {
   "cell_type": "code",
   "execution_count": 2,
   "id": "8fe6d4c0-f448-4e7e-912b-6940de18b8c3",
   "metadata": {},
   "outputs": [],
   "source": [
    "# mp-1207450: Zn9Fe4 (cubic, I-43m, 217) https://legacy.materialsproject.org/materials/mp-1207450/\n",
    "\n",
    "from pymatgen.io.cif import CifParser\n",
    "\n",
    "mpr = MPRester(\"foqWelVbBoixU9suS6DAz6xg7RASqTVq\")\n",
    "\n",
    "material_ID = \"mp-1207450\"\n",
    "structure = mpr.get_data(material_ID, data_type='', prop='cif').get(\"cif\")"
   ]
  },
  {
   "cell_type": "code",
   "execution_count": 3,
   "id": "f4dcafec-cdaa-4275-a6b3-c0aa4f2d8fed",
   "metadata": {},
   "outputs": [],
   "source": [
    "parser = CifParser.from_string(structure)"
   ]
  },
  {
   "cell_type": "code",
   "execution_count": 4,
   "id": "090c8b3b-0f77-41a2-9bbf-fb9c09070fb9",
   "metadata": {},
   "outputs": [
    {
     "name": "stdout",
     "output_type": "stream",
     "text": [
      "Full Formula (Zn18 Fe8)\n",
      "Reduced Formula: Zn9Fe4\n",
      "abc   :   7.773250   7.773250   7.773250\n",
      "angles: 109.471221 109.471221 109.471221\n",
      "Sites (26)\n",
      "  #  SP           a         b         c\n",
      "---  ----  --------  --------  --------\n",
      "  0  Fe    0.793479  0         0\n",
      "  1  Fe    1         0.793479  1\n",
      "  2  Fe    1         0         0.793479\n",
      "  3  Fe    0.206521  0.206521  0.206521\n",
      "  4  Fe    0.316661  0         0\n",
      "  5  Fe    1         0.316661  1\n",
      "  6  Fe    1         1         0.316661\n",
      "  7  Fe    0.683339  0.683339  0.683339\n",
      "  8  Zn    0.643763  0.248717  0\n",
      "  9  Zn    0.248717  0.643763  1\n",
      " 10  Zn    0.751283  0.751283  0.395046\n",
      " 11  Zn    0.395046  0.751283  0.751283\n",
      " 12  Zn    0.356237  0.356237  0.604954\n",
      " 13  Zn    0.604954  0.356237  0.356237\n",
      " 14  Zn    1         0.643763  0.248717\n",
      " 15  Zn    1         0.248717  0.643763\n",
      " 16  Zn    0.643763  0         0.248717\n",
      " 17  Zn    0.356237  0.604954  0.356237\n",
      " 18  Zn    0.751283  0.395046  0.751283\n",
      " 19  Zn    0.248717  0         0.643763\n",
      " 20  Zn    0         0.356393  0.356393\n",
      " 21  Zn    0         0.643607  0.643607\n",
      " 22  Zn    0.643607  0         0.643607\n",
      " 23  Zn    0.356393  0         0.356393\n",
      " 24  Zn    0.643607  0.643607  0\n",
      " 25  Zn    0.356393  0.356393  0\n"
     ]
    }
   ],
   "source": [
    "structure = parser.get_structures()\n",
    "print(structure[0])"
   ]
  },
  {
   "cell_type": "code",
   "execution_count": 5,
   "id": "2afdde75-38f6-4a87-b3c4-be89fa114660",
   "metadata": {},
   "outputs": [
    {
     "name": "stdout",
     "output_type": "stream",
     "text": [
      "4.487888 4.487888 4.487888\n",
      "4.487888 -4.487888 -4.487888\n",
      "-4.487888 4.487888 -4.487888\n",
      "[Element Fe, Element Fe, Element Fe, Element Fe, Element Fe, Element Fe, Element Fe, Element Fe, Element Zn, Element Zn, Element Zn, Element Zn, Element Zn, Element Zn, Element Zn, Element Zn, Element Zn, Element Zn, Element Zn, Element Zn, Element Zn, Element Zn, Element Zn, Element Zn, Element Zn, Element Zn]\n",
      "0.0\n",
      "[[ 3.56104488e+00  3.56104488e+00  3.56104488e+00]\n",
      " [ 3.56104488e+00  5.41473112e+00 -3.56104488e+00]\n",
      " [ 9.26843118e-01  8.04893288e+00  9.26843118e-01]\n",
      " [ 9.26843118e-01  9.26843118e-01 -9.26843118e-01]\n",
      " [ 1.42113910e+00  1.42113910e+00  1.42113910e+00]\n",
      " [ 1.42113910e+00  7.55463690e+00 -1.42113910e+00]\n",
      " [ 7.55463690e+00  1.42113910e+00 -1.42113910e+00]\n",
      " [ 3.06674890e+00  3.06674890e+00 -3.06674890e+00]\n",
      " [ 4.00535028e+00  1.77292220e+00  1.77292220e+00]\n",
      " [-4.82537718e-01  2.71496580e+00 -6.26081020e+00]\n",
      " [ 4.97042572e+00  1.77292220e+00 -1.77292220e+00]\n",
      " [ 1.77292220e+00  1.77292220e+00 -4.97042572e+00]\n",
      " [ 4.82537718e-01  2.71496580e+00 -2.71496580e+00]\n",
      " [ 2.71496580e+00  2.71496580e+00 -4.82537718e-01]\n",
      " [ 6.26081020e+00  2.71496580e+00  4.82537718e-01]\n",
      " [ 2.71496580e+00  6.26081020e+00  4.82537718e-01]\n",
      " [ 1.77292220e+00  4.00535028e+00  1.77292220e+00]\n",
      " [ 2.71496580e+00  4.82537718e-01 -2.71496580e+00]\n",
      " [ 1.77292220e+00  4.97042572e+00 -1.77292220e+00]\n",
      " [-1.77292220e+00  4.00535028e+00 -1.77292220e+00]\n",
      " [ 0.00000000e+00  0.00000000e+00 -3.19890374e+00]\n",
      " [ 0.00000000e+00  0.00000000e+00 -5.77687226e+00]\n",
      " [ 1.33226763e-15  5.77687226e+00 -4.44089210e-16]\n",
      " [ 6.66133815e-16  3.19890374e+00  0.00000000e+00]\n",
      " [ 5.77687226e+00 -3.89922761e-16 -4.98255659e-16]\n",
      " [ 3.19890374e+00 -2.22044605e-16  0.00000000e+00]]\n",
      "(26, 26, 26, 26, 26, 26, 26, 26, 30, 30, 30, 30, 30, 30, 30, 30, 30, 30, 30, 30, 30, 30, 30, 30, 30, 30)\n"
     ]
    }
   ],
   "source": [
    "Zn9Fe4 = structure[0]\n",
    "\n",
    "print(Zn9Fe4.lattice)\n",
    "print(Zn9Fe4.species)\n",
    "print(Zn9Fe4.charge)\n",
    "print(Zn9Fe4.cart_coords)\n",
    "print(Zn9Fe4.atomic_numbers)"
   ]
  },
  {
   "cell_type": "code",
   "execution_count": 6,
   "id": "68652d7a-3014-4eb7-a582-0667d25950ed",
   "metadata": {},
   "outputs": [
    {
     "data": {
      "text/plain": [
       "[Element Fe,\n",
       " Element Fe,\n",
       " Element Fe,\n",
       " Element Fe,\n",
       " Element Fe,\n",
       " Element Fe,\n",
       " Element Fe,\n",
       " Element Fe,\n",
       " Element Zn,\n",
       " Element Zn,\n",
       " Element Zn,\n",
       " Element Zn,\n",
       " Element Zn,\n",
       " Element Zn,\n",
       " Element Zn,\n",
       " Element Zn,\n",
       " Element Zn,\n",
       " Element Zn,\n",
       " Element Zn,\n",
       " Element Zn,\n",
       " Element Zn,\n",
       " Element Zn,\n",
       " Element Zn,\n",
       " Element Zn,\n",
       " Element Zn,\n",
       " Element Zn]"
      ]
     },
     "execution_count": 6,
     "metadata": {},
     "output_type": "execute_result"
    }
   ],
   "source": [
    "Zn9Fe4.species"
   ]
  },
  {
   "cell_type": "code",
   "execution_count": 25,
   "id": "9509c7d1-bc08-404a-976e-d68a94c71c7a",
   "metadata": {},
   "outputs": [
    {
     "name": "stdout",
     "output_type": "stream",
     "text": [
      "28.76923076923077 30 26 1.8461538461538463\n"
     ]
    }
   ],
   "source": [
    "mean_atomic_number = np.mean(Zn9Fe4.atomic_numbers)\n",
    "max_atomic_number = np.max(Zn9Fe4.atomic_numbers)\n",
    "min_atomic_number = np.min(Zn9Fe4.atomic_numbers)\n",
    "std_atomic_number = np.std(Zn9Fe4.atomic_numbers)\n",
    "\n",
    "print(mean_atomic_number, max_atomic_number, min_atomic_number, std_atomic_number)"
   ]
  },
  {
   "cell_type": "code",
   "execution_count": 26,
   "id": "61ab9b7c-2ef6-46e3-b398-557f773a4c58",
   "metadata": {},
   "outputs": [
    {
     "name": "stdout",
     "output_type": "stream",
     "text": [
      "3.34447258069263 4.681456073454327 0.0 1.0238412641887145\n"
     ]
    }
   ],
   "source": [
    "mean_distance_matrix = np.mean(Zn9Fe4.distance_matrix)\n",
    "max_distance_matrix = np.max(Zn9Fe4.distance_matrix)\n",
    "min_distance_matrix = np.min(Zn9Fe4.distance_matrix)\n",
    "std_distance_matrix = np.std(Zn9Fe4.distance_matrix)\n",
    "\n",
    "print(mean_distance_matrix, max_distance_matrix, min_distance_matrix, std_distance_matrix)"
   ]
  },
  {
   "cell_type": "code",
   "execution_count": 27,
   "id": "1b1d736f-6056-4289-a77a-574828e8443f",
   "metadata": {},
   "outputs": [
    {
     "ename": "MPRestError",
     "evalue": "REST query returned with error status code 403. Content: b'{\"valid_response\": false, \"error\": \"API_KEY is not a valid key.\", \"version\": {\"db\": \"2020_09_08\", \"pymatgen\": \"2022.0.8\", \"rest\": \"2.0\"}, \"created_at\": \"2022-10-25T21:26:06.626045\"}'",
     "output_type": "error",
     "traceback": [
      "\u001b[1;31m---------------------------------------------------------------------------\u001b[0m",
      "\u001b[1;31mMPRestError\u001b[0m                               Traceback (most recent call last)",
      "File \u001b[1;32m~\\AppData\\Roaming\\Python\\Python38\\site-packages\\pymatgen\\ext\\matproj.py:182\u001b[0m, in \u001b[0;36mMPRester._make_request\u001b[1;34m(self, sub_url, payload, method, mp_decode)\u001b[0m\n\u001b[0;32m    180\u001b[0m             \u001b[38;5;28;01mraise\u001b[39;00m MPRestError(data[\u001b[38;5;124m\"\u001b[39m\u001b[38;5;124merror\u001b[39m\u001b[38;5;124m\"\u001b[39m])\n\u001b[1;32m--> 182\u001b[0m     \u001b[38;5;28;01mraise\u001b[39;00m MPRestError(\u001b[38;5;124m\"\u001b[39m\u001b[38;5;124mREST query returned with error status code \u001b[39m\u001b[38;5;132;01m{}\u001b[39;00m\u001b[38;5;124m\"\u001b[39m\n\u001b[0;32m    183\u001b[0m                       \u001b[38;5;241m.\u001b[39mformat(response\u001b[38;5;241m.\u001b[39mstatus_code))\n\u001b[0;32m    185\u001b[0m \u001b[38;5;28;01mexcept\u001b[39;00m \u001b[38;5;167;01mException\u001b[39;00m \u001b[38;5;28;01mas\u001b[39;00m ex:\n",
      "\u001b[1;31mMPRestError\u001b[0m: REST query returned with error status code 403",
      "\nDuring handling of the above exception, another exception occurred:\n",
      "\u001b[1;31mMPRestError\u001b[0m                               Traceback (most recent call last)",
      "Cell \u001b[1;32mIn [27], line 1\u001b[0m\n\u001b[1;32m----> 1\u001b[0m results \u001b[38;5;241m=\u001b[39m \u001b[43mmpr\u001b[49m\u001b[38;5;241;43m.\u001b[39;49m\u001b[43mquery\u001b[49m\u001b[43m(\u001b[49m\u001b[43m{\u001b[49m\u001b[38;5;124;43m\"\u001b[39;49m\u001b[38;5;124;43mformula_anonymous\u001b[39;49m\u001b[38;5;124;43m\"\u001b[39;49m\u001b[43m:\u001b[49m\u001b[43m \u001b[49m\u001b[38;5;124;43m\"\u001b[39;49m\u001b[38;5;124;43mABC3\u001b[39;49m\u001b[38;5;124;43m\"\u001b[39;49m\u001b[43m}\u001b[49m\u001b[43m,\u001b[49m\u001b[43m \u001b[49m\u001b[43mproperties\u001b[49m\u001b[38;5;241;43m=\u001b[39;49m\u001b[43m[\u001b[49m\u001b[38;5;124;43m\"\u001b[39;49m\u001b[38;5;124;43mcif\u001b[39;49m\u001b[38;5;124;43m\"\u001b[39;49m\u001b[43m,\u001b[49m\u001b[43m \u001b[49m\u001b[38;5;124;43m\"\u001b[39;49m\u001b[38;5;124;43mband_gap\u001b[39;49m\u001b[38;5;124;43m\"\u001b[39;49m\u001b[43m]\u001b[49m\u001b[43m)\u001b[49m\n",
      "File \u001b[1;32m~\\AppData\\Roaming\\Python\\Python38\\site-packages\\pymatgen\\ext\\matproj.py:820\u001b[0m, in \u001b[0;36mMPRester.query\u001b[1;34m(self, criteria, properties, chunk_size, max_tries_per_chunk, mp_decode)\u001b[0m\n\u001b[0;32m    818\u001b[0m count_payload \u001b[38;5;241m=\u001b[39m payload\u001b[38;5;241m.\u001b[39mcopy()\n\u001b[0;32m    819\u001b[0m count_payload[\u001b[38;5;124m\"\u001b[39m\u001b[38;5;124moptions\u001b[39m\u001b[38;5;124m\"\u001b[39m] \u001b[38;5;241m=\u001b[39m json\u001b[38;5;241m.\u001b[39mdumps({\u001b[38;5;124m\"\u001b[39m\u001b[38;5;124mcount_only\u001b[39m\u001b[38;5;124m\"\u001b[39m: \u001b[38;5;28;01mTrue\u001b[39;00m})\n\u001b[1;32m--> 820\u001b[0m num_results \u001b[38;5;241m=\u001b[39m \u001b[38;5;28;43mself\u001b[39;49m\u001b[38;5;241;43m.\u001b[39;49m\u001b[43m_make_request\u001b[49m\u001b[43m(\u001b[49m\n\u001b[0;32m    821\u001b[0m \u001b[43m    \u001b[49m\u001b[38;5;124;43m\"\u001b[39;49m\u001b[38;5;124;43m/query\u001b[39;49m\u001b[38;5;124;43m\"\u001b[39;49m\u001b[43m,\u001b[49m\u001b[43m \u001b[49m\u001b[43mpayload\u001b[49m\u001b[38;5;241;43m=\u001b[39;49m\u001b[43mcount_payload\u001b[49m\u001b[43m,\u001b[49m\u001b[43m \u001b[49m\u001b[43mmethod\u001b[49m\u001b[38;5;241;43m=\u001b[39;49m\u001b[38;5;124;43m\"\u001b[39;49m\u001b[38;5;124;43mPOST\u001b[39;49m\u001b[38;5;124;43m\"\u001b[39;49m\u001b[43m)\u001b[49m\n\u001b[0;32m    822\u001b[0m \u001b[38;5;28;01mif\u001b[39;00m num_results \u001b[38;5;241m<\u001b[39m\u001b[38;5;241m=\u001b[39m chunk_size:\n\u001b[0;32m    823\u001b[0m     \u001b[38;5;28;01mreturn\u001b[39;00m \u001b[38;5;28mself\u001b[39m\u001b[38;5;241m.\u001b[39m_make_request(\n\u001b[0;32m    824\u001b[0m         \u001b[38;5;124m\"\u001b[39m\u001b[38;5;124m/query\u001b[39m\u001b[38;5;124m\"\u001b[39m, payload\u001b[38;5;241m=\u001b[39mpayload, method\u001b[38;5;241m=\u001b[39m\u001b[38;5;124m\"\u001b[39m\u001b[38;5;124mPOST\u001b[39m\u001b[38;5;124m\"\u001b[39m, mp_decode\u001b[38;5;241m=\u001b[39mmp_decode)\n",
      "File \u001b[1;32m~\\AppData\\Roaming\\Python\\Python38\\site-packages\\pymatgen\\ext\\matproj.py:188\u001b[0m, in \u001b[0;36mMPRester._make_request\u001b[1;34m(self, sub_url, payload, method, mp_decode)\u001b[0m\n\u001b[0;32m    185\u001b[0m \u001b[38;5;28;01mexcept\u001b[39;00m \u001b[38;5;167;01mException\u001b[39;00m \u001b[38;5;28;01mas\u001b[39;00m ex:\n\u001b[0;32m    186\u001b[0m     msg \u001b[38;5;241m=\u001b[39m \u001b[38;5;124m\"\u001b[39m\u001b[38;5;132;01m{}\u001b[39;00m\u001b[38;5;124m. Content: \u001b[39m\u001b[38;5;132;01m{}\u001b[39;00m\u001b[38;5;124m\"\u001b[39m\u001b[38;5;241m.\u001b[39mformat(\u001b[38;5;28mstr\u001b[39m(ex), response\u001b[38;5;241m.\u001b[39mcontent) \\\n\u001b[0;32m    187\u001b[0m         \u001b[38;5;28;01mif\u001b[39;00m \u001b[38;5;28mhasattr\u001b[39m(response, \u001b[38;5;124m\"\u001b[39m\u001b[38;5;124mcontent\u001b[39m\u001b[38;5;124m\"\u001b[39m) \u001b[38;5;28;01melse\u001b[39;00m \u001b[38;5;28mstr\u001b[39m(ex)\n\u001b[1;32m--> 188\u001b[0m     \u001b[38;5;28;01mraise\u001b[39;00m MPRestError(msg)\n",
      "\u001b[1;31mMPRestError\u001b[0m: REST query returned with error status code 403. Content: b'{\"valid_response\": false, \"error\": \"API_KEY is not a valid key.\", \"version\": {\"db\": \"2020_09_08\", \"pymatgen\": \"2022.0.8\", \"rest\": \"2.0\"}, \"created_at\": \"2022-10-25T21:26:06.626045\"}'"
     ]
    }
   ],
   "source": [
    "results = mpr.query({\"formula_anonymous\": \"ABC3\"}, properties=[\"cif\", \"band_gap\"])"
   ]
  },
  {
   "cell_type": "code",
   "execution_count": null,
   "id": "adb82621-03f3-49bf-8f20-2c9fc833e886",
   "metadata": {},
   "outputs": [],
   "source": []
  }
 ],
 "metadata": {
  "kernelspec": {
   "display_name": "matminer1",
   "language": "python",
   "name": "matminer1"
  },
  "language_info": {
   "codemirror_mode": {
    "name": "ipython",
    "version": 3
   },
   "file_extension": ".py",
   "mimetype": "text/x-python",
   "name": "python",
   "nbconvert_exporter": "python",
   "pygments_lexer": "ipython3",
   "version": "3.8.8"
  }
 },
 "nbformat": 4,
 "nbformat_minor": 5
}

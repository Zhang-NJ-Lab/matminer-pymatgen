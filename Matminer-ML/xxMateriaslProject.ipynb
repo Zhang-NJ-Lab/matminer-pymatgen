{
 "cells": [
  {
   "cell_type": "markdown",
   "id": "11f4c250-346a-43a1-9b50-03e77a9d3bf1",
   "metadata": {},
   "source": [
    "# 来源\n",
    "https://github.com/computron/Citrine_ML_tut/blob/master/Citrine_ML_tut.ipynb"
   ]
  },
  {
   "cell_type": "code",
   "execution_count": 1,
   "id": "4259e9e5-1d39-44f8-bf16-2fae1c91772d",
   "metadata": {},
   "outputs": [],
   "source": [
    "import numpy as np"
   ]
  },
  {
   "cell_type": "code",
   "execution_count": 55,
   "id": "677cb986-86df-41fa-b167-26095634c9bb",
   "metadata": {},
   "outputs": [],
   "source": [
    "import pandas\n",
    "import numpy\n",
    "from pandas.plotting import scatter_matrix\n",
    "import pymatgen\n",
    "import matminer\n",
    "import sklearn\n",
    "import matplotlib\n",
    "from pymatgen import Composition, Element, MPRester, core\n",
    "from pymatgen.core import periodic_table\n",
    "from sklearn import linear_model, metrics, ensemble\n",
    "from sklearn import model_selection as cross_validation\n",
    "import pandas as pd\n",
    "import matplotlib.pyplot as plt\n",
    "import itertools\n",
    "from IPython.display import Image"
   ]
  },
  {
   "cell_type": "code",
   "execution_count": 3,
   "id": "1efa77c2-9629-48ea-98b0-08f60dad28a6",
   "metadata": {},
   "outputs": [],
   "source": [
    "\n",
    "df = pd.DataFrame()   # Creating a Pandas data frame to store all the collected data from MP\n"
   ]
  },
  {
   "cell_type": "code",
   "execution_count": 27,
   "id": "2ee1e26f-6735-4231-beac-10b35272a189",
   "metadata": {},
   "outputs": [
    {
     "ename": "AttributeError",
     "evalue": "module 'pymatgen.core.periodic_table' has no attribute 'symbol'",
     "output_type": "error",
     "traceback": [
      "\u001b[1;31m---------------------------------------------------------------------------\u001b[0m",
      "\u001b[1;31mAttributeError\u001b[0m                            Traceback (most recent call last)",
      "Cell \u001b[1;32mIn [27], line 1\u001b[0m\n\u001b[1;32m----> 1\u001b[0m allBinaries \u001b[38;5;241m=\u001b[39m itertools\u001b[38;5;241m.\u001b[39mcombinations(\u001b[43mperiodic_table\u001b[49m\u001b[38;5;241;43m.\u001b[39;49m\u001b[43msymbol\u001b[49m(bases), \u001b[38;5;241m2\u001b[39m)\n",
      "\u001b[1;31mAttributeError\u001b[0m: module 'pymatgen.core.periodic_table' has no attribute 'symbol'"
     ]
    }
   ],
   "source": [
    "allBinaries = itertools.combinations(periodic_table.Element(bases), 2)  # Create list of all binary systems"
   ]
  },
  {
   "cell_type": "code",
   "execution_count": 44,
   "id": "fd0b5334-b734-46d6-8310-056ee30153f0",
   "metadata": {},
   "outputs": [
    {
     "data": {
      "text/plain": [
       "<module 'pymatgen' from 'C:\\\\Users\\\\Administrator\\\\AppData\\\\Roaming\\\\Python\\\\Python38\\\\site-packages\\\\pymatgen\\\\__init__.py'>"
      ]
     },
     "execution_count": 44,
     "metadata": {},
     "output_type": "execute_result"
    }
   ],
   "source": [
    "pymatgen"
   ]
  },
  {
   "cell_type": "code",
   "execution_count": 45,
   "id": "774c6153-8d95-4bdb-bca3-e465b7dd5cf3",
   "metadata": {},
   "outputs": [
    {
     "data": {
      "text/plain": [
       "'2020.1.28'"
      ]
     },
     "execution_count": 45,
     "metadata": {},
     "output_type": "execute_result"
    }
   ],
   "source": [
    "pymatgen.__version__"
   ]
  },
  {
   "cell_type": "code",
   "execution_count": 49,
   "id": "deff3eda-8b95-4f63-9e3b-ea26fb5da8f0",
   "metadata": {},
   "outputs": [
    {
     "data": {
      "text/plain": [
       "'0.6.2'"
      ]
     },
     "execution_count": 49,
     "metadata": {},
     "output_type": "execute_result"
    }
   ],
   "source": [
    "matminer.__version__"
   ]
  },
  {
   "cell_type": "code",
   "execution_count": 52,
   "id": "d254835b-23f4-4b5f-a82b-339ef200c129",
   "metadata": {},
   "outputs": [
    {
     "data": {
      "text/plain": [
       "'1.5.1'"
      ]
     },
     "execution_count": 52,
     "metadata": {},
     "output_type": "execute_result"
    }
   ],
   "source": [
    "pandas.__version__"
   ]
  },
  {
   "cell_type": "code",
   "execution_count": 53,
   "id": "89d64879-358b-432f-b593-21ddf7d64451",
   "metadata": {},
   "outputs": [
    {
     "data": {
      "text/plain": [
       "'1.22.4'"
      ]
     },
     "execution_count": 53,
     "metadata": {},
     "output_type": "execute_result"
    }
   ],
   "source": [
    "numpy.__version__"
   ]
  },
  {
   "cell_type": "code",
   "execution_count": 56,
   "id": "ef3e35bb-6982-4e0a-aa52-bd334c07dc75",
   "metadata": {},
   "outputs": [
    {
     "data": {
      "text/plain": [
       "'0.22.2'"
      ]
     },
     "execution_count": 56,
     "metadata": {},
     "output_type": "execute_result"
    }
   ],
   "source": [
    "sklearn.__version__"
   ]
  },
  {
   "cell_type": "code",
   "execution_count": 57,
   "id": "1d25ba59-ad76-4060-b841-8a5031957794",
   "metadata": {},
   "outputs": [
    {
     "data": {
      "text/plain": [
       "'3.3.4'"
      ]
     },
     "execution_count": 57,
     "metadata": {},
     "output_type": "execute_result"
    }
   ],
   "source": [
    "matplotlib.__version__"
   ]
  },
  {
   "cell_type": "code",
   "execution_count": null,
   "id": "29d33a65-7e76-48e6-932e-eae6c2460786",
   "metadata": {},
   "outputs": [],
   "source": []
  }
 ],
 "metadata": {
  "kernelspec": {
   "display_name": "matminer1",
   "language": "python",
   "name": "matminer1"
  },
  "language_info": {
   "codemirror_mode": {
    "name": "ipython",
    "version": 3
   },
   "file_extension": ".py",
   "mimetype": "text/x-python",
   "name": "python",
   "nbconvert_exporter": "python",
   "pygments_lexer": "ipython3",
   "version": "3.8.8"
  }
 },
 "nbformat": 4,
 "nbformat_minor": 5
}
